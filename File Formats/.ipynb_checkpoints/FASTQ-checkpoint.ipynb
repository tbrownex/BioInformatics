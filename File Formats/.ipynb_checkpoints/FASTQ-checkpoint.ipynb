{
 "cells": [
  {
   "cell_type": "code",
   "execution_count": 32,
   "id": "dc209300",
   "metadata": {},
   "outputs": [],
   "source": [
    "import random\n",
    "import numpy as np"
   ]
  },
  {
   "cell_type": "code",
   "execution_count": 33,
   "id": "9d5963d4",
   "metadata": {},
   "outputs": [],
   "source": [
    "path='/home/tbrownex/data/bioInformatics/data/'\n",
    "file = 'SRR1517938_2.fastq'\n",
    "#file = 'SRR1517991_2.fastq'\n",
    "fileName = path+file"
   ]
  },
  {
   "cell_type": "code",
   "execution_count": 34,
   "id": "555ed5d4",
   "metadata": {},
   "outputs": [],
   "source": [
    "def formatDict(lines=None):\n",
    "    ks = ['name', 'sequence', 'Qscore']\n",
    "    return {k: v for k, v in zip(ks, lines)}"
   ]
  },
  {
   "cell_type": "code",
   "execution_count": 35,
   "id": "5b9a1df7",
   "metadata": {},
   "outputs": [],
   "source": [
    "def getPhred(record):\n",
    "    def decode(c):\n",
    "        return ord(c) - 33\n",
    "    letters = record['Qscore']\n",
    "    values = map(decode, letters)\n",
    "    return list(values)"
   ]
  },
  {
   "cell_type": "code",
   "execution_count": 36,
   "id": "ba3ba1c9",
   "metadata": {},
   "outputs": [],
   "source": [
    "def checkRecord(record):\n",
    "    seq = record['sequence']\n",
    "    if len(seq)!= 76:\n",
    "        print(record['name'], seq)"
   ]
  },
  {
   "cell_type": "code",
   "execution_count": 37,
   "id": "36140cfd",
   "metadata": {},
   "outputs": [],
   "source": [
    "def printRecord(name):\n",
    "    with open(fileName, 'r') as fh:\n",
    "        lines = []\n",
    "        for line in fh:\n",
    "            lines.append(line.rstrip())\n",
    "            if len(lines) == 4:\n",
    "                record = formatDict(lines)\n",
    "                if record['name']==name:\n",
    "                    print(record['sequence'])\n",
    "                lines = []"
   ]
  },
  {
   "cell_type": "code",
   "execution_count": 38,
   "id": "2002f1aa",
   "metadata": {},
   "outputs": [],
   "source": [
    "def process(fileName, getRandom=False, Phred=False):\n",
    "    count=0\n",
    "    rando = random.randint(1, 1e6)\n",
    "    lowestPhred = np.inf\n",
    "    with open(fileName, 'r') as fh:\n",
    "        lines = []\n",
    "        lineNum = 0\n",
    "        for line in fh:\n",
    "            lineNum += 1\n",
    "            count += 1\n",
    "            if lineNum != 3:  # Skip the \"optional\" record \"+\"\n",
    "                lines.append(line.rstrip())\n",
    "            if lineNum == 4:\n",
    "                record = formatDict(lines)\n",
    "                if getRandom:\n",
    "                    if count == rando:\n",
    "                        return record\n",
    "                elif Phred:\n",
    "                    phred = getPhred(record)\n",
    "                    if min(phred)<lowestPhred:\n",
    "                        lowestPhred = min(phred)\n",
    "                        print(lowestPhred)\n",
    "                #checkRecord(record)\n",
    "                lines = []\n",
    "                lineNum = 0\n",
    "                #if count>1e5: break\n",
    "    #print(\"{:,} records\".format(count))"
   ]
  },
  {
   "cell_type": "code",
   "execution_count": 18,
   "id": "06c91e56",
   "metadata": {},
   "outputs": [],
   "source": [
    "rec = process(fileName, getRandom=True)"
   ]
  },
  {
   "cell_type": "code",
   "execution_count": 39,
   "id": "9835ed15",
   "metadata": {},
   "outputs": [
    {
     "name": "stdout",
     "output_type": "stream",
     "text": [
      "10\n",
      "2\n"
     ]
    }
   ],
   "source": [
    "rec = process(fileName, Phred=True)"
   ]
  },
  {
   "cell_type": "code",
   "execution_count": 50,
   "id": "c9c73286",
   "metadata": {},
   "outputs": [],
   "source": [
    "def f(PhredScore):\n",
    "    return np.power(10, PhredScore / -10)"
   ]
  },
  {
   "cell_type": "code",
   "execution_count": 55,
   "id": "85fd45b6",
   "metadata": {},
   "outputs": [
    {
     "data": {
      "text/plain": [
       "0.1"
      ]
     },
     "execution_count": 55,
     "metadata": {},
     "output_type": "execute_result"
    }
   ],
   "source": [
    "f(10)"
   ]
  }
 ],
 "metadata": {
  "kernelspec": {
   "display_name": "tensorflow",
   "language": "python",
   "name": "tensorflow"
  },
  "language_info": {
   "codemirror_mode": {
    "name": "ipython",
    "version": 3
   },
   "file_extension": ".py",
   "mimetype": "text/x-python",
   "name": "python",
   "nbconvert_exporter": "python",
   "pygments_lexer": "ipython3",
   "version": "3.8.10"
  }
 },
 "nbformat": 4,
 "nbformat_minor": 5
}
