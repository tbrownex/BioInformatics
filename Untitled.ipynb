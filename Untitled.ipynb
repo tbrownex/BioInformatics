{
 "cells": [
  {
   "cell_type": "code",
   "execution_count": 2,
   "id": "f92d39a9",
   "metadata": {},
   "outputs": [],
   "source": [
    "import numpy as np\n",
    "import h5py\n",
    "import scipy.io\n",
    "np.random.seed(1337)"
   ]
  },
  {
   "cell_type": "code",
   "execution_count": 3,
   "id": "10a510e4",
   "metadata": {},
   "outputs": [],
   "source": [
    "def sampleData(train):\n",
    "    # Can't fit all the data in memory so take a sample\n",
    "    fullLength = len(train['traindata'])\n",
    "    samplePct = 0.05\n",
    "    trainSize = round(fullLength*samplePct)\n",
    "    # Y is key 'traindata'; X is trainXdata\n",
    "    arrY = np.zeros((trainSize, 4, 4400000), dtype='uint8')\n",
    "    arrY = np.zeros((919, trainSize), dtype='uint8')\n",
    "    idx = sorted(np.random.choice(range(fullLength), size=trainSize, replace=False))\n",
    "    #train['trainxdata'].read_direct(arrX, np.s_[idx], np.s_[:])\n",
    "    train['traindata'].read_direct(arrY, np.s_[:, idx], np.s_[:])\n",
    "    return arrY"
   ]
  },
  {
   "cell_type": "code",
   "execution_count": 4,
   "id": "02aa194f",
   "metadata": {},
   "outputs": [],
   "source": [
    "def getTrainingData(dataLoc):\n",
    "    train = h5py.File(dataLoc+'train.mat', mode='r')\n",
    "    train = sampleData(train)\n",
    "    #trainX = np.transpose(np.array(train),axes=(2,0,1))\n",
    "    # Format Y\n",
    "    trainY = np.array(train).T\n",
    "    return trainY"
   ]
  },
  {
   "cell_type": "code",
   "execution_count": 5,
   "id": "2d76fe8e",
   "metadata": {},
   "outputs": [],
   "source": [
    "def getTestData(dataLoc):\n",
    "    return scipy.io.loadmat(dataLoc+'test.mat')"
   ]
  },
  {
   "cell_type": "code",
   "execution_count": 6,
   "id": "4e44050b",
   "metadata": {},
   "outputs": [],
   "source": [
    "dataLoc = '/home/tbrownex/data/deepsea_data/'\n",
    "trainmat = getTrainingData(dataLoc)\n",
    "#testmat = getTestData(dataLoc)\n",
    "\n"
   ]
  },
  {
   "cell_type": "code",
   "execution_count": 7,
   "id": "32d83a10",
   "metadata": {},
   "outputs": [
    {
     "data": {
      "text/plain": [
       "(46, 919)"
      ]
     },
     "execution_count": 7,
     "metadata": {},
     "output_type": "execute_result"
    }
   ],
   "source": [
    "trainmat.shape"
   ]
  },
  {
   "cell_type": "code",
   "execution_count": 9,
   "id": "f697b1f2",
   "metadata": {},
   "outputs": [
    {
     "ename": "IndexError",
     "evalue": "only integers, slices (`:`), ellipsis (`...`), numpy.newaxis (`None`) and integer or boolean arrays are valid indices",
     "output_type": "error",
     "traceback": [
      "\u001b[0;31m---------------------------------------------------------------------------\u001b[0m",
      "\u001b[0;31mIndexError\u001b[0m                                Traceback (most recent call last)",
      "\u001b[0;32m<ipython-input-9-efd775341cd0>\u001b[0m in \u001b[0;36m<module>\u001b[0;34m\u001b[0m\n\u001b[0;32m----> 1\u001b[0;31m \u001b[0mtrainmat\u001b[0m\u001b[0;34m[\u001b[0m\u001b[0;34m'traindata'\u001b[0m\u001b[0;34m]\u001b[0m\u001b[0;34m.\u001b[0m\u001b[0mshape\u001b[0m\u001b[0;34m\u001b[0m\u001b[0;34m\u001b[0m\u001b[0m\n\u001b[0m",
      "\u001b[0;31mIndexError\u001b[0m: only integers, slices (`:`), ellipsis (`...`), numpy.newaxis (`None`) and integer or boolean arrays are valid indices"
     ]
    }
   ],
   "source": [
    "trainmat['traindata'].shape"
   ]
  },
  {
   "cell_type": "code",
   "execution_count": 39,
   "id": "b66ae79a",
   "metadata": {},
   "outputs": [
    {
     "data": {
      "text/plain": [
       "(1000, 4, 4400000)"
      ]
     },
     "execution_count": 39,
     "metadata": {},
     "output_type": "execute_result"
    }
   ],
   "source": [
    "trainmat['trainxdata'].shape"
   ]
  },
  {
   "cell_type": "code",
   "execution_count": 119,
   "id": "46ae2bb4",
   "metadata": {},
   "outputs": [
    {
     "data": {
      "text/plain": [
       "219082"
      ]
     },
     "execution_count": 119,
     "metadata": {},
     "output_type": "execute_result"
    }
   ],
   "source": [
    "arr[8].sum()"
   ]
  },
  {
   "cell_type": "code",
   "execution_count": 120,
   "id": "8c2f862d",
   "metadata": {},
   "outputs": [
    {
     "data": {
      "text/plain": [
       "219082"
      ]
     },
     "execution_count": 120,
     "metadata": {},
     "output_type": "execute_result"
    }
   ],
   "source": [
    "trainmat['traindata'][idx[8]].sum()"
   ]
  },
  {
   "cell_type": "code",
   "execution_count": 29,
   "id": "5731c26e",
   "metadata": {},
   "outputs": [
    {
     "data": {
      "text/plain": [
       "[480729, 1428135, 3299674]"
      ]
     },
     "execution_count": 29,
     "metadata": {},
     "output_type": "execute_result"
    }
   ],
   "source": [
    "samples"
   ]
  },
  {
   "cell_type": "code",
   "execution_count": 22,
   "id": "9cacb7a0",
   "metadata": {},
   "outputs": [
    {
     "data": {
      "text/plain": [
       "(2, 4400000)"
      ]
     },
     "execution_count": 22,
     "metadata": {},
     "output_type": "execute_result"
    }
   ],
   "source": [
    "tom.shape"
   ]
  },
  {
   "cell_type": "code",
   "execution_count": 20,
   "id": "6998a355",
   "metadata": {},
   "outputs": [
    {
     "name": "stdout",
     "output_type": "stream",
     "text": [
      "traindata 919\n",
      "trainxdata 1000\n"
     ]
    }
   ],
   "source": [
    "for n in trainmat.keys(): print(n, len(trainmat[n]))"
   ]
  },
  {
   "cell_type": "code",
   "execution_count": 21,
   "id": "79ffcce1",
   "metadata": {},
   "outputs": [
    {
     "name": "stdout",
     "output_type": "stream",
     "text": [
      "__header__ 76\n",
      "__version__ 3\n",
      "__globals__ 0\n",
      "testdata 455024\n",
      "testxdata 455024\n"
     ]
    }
   ],
   "source": [
    "for n in testmat.keys(): print(n, len(testmat[n]))"
   ]
  },
  {
   "cell_type": "code",
   "execution_count": 23,
   "id": "de2e5d39",
   "metadata": {},
   "outputs": [
    {
     "data": {
      "text/plain": [
       "<HDF5 dataset \"trainxdata\": shape (1000, 4, 4400000), type \"|u1\">"
      ]
     },
     "execution_count": 23,
     "metadata": {},
     "output_type": "execute_result"
    }
   ],
   "source": [
    "trainmat['trainxdata']"
   ]
  },
  {
   "cell_type": "code",
   "execution_count": null,
   "id": "6f186940",
   "metadata": {},
   "outputs": [],
   "source": [
    "X_train = "
   ]
  },
  {
   "cell_type": "code",
   "execution_count": 33,
   "id": "94a01df6",
   "metadata": {},
   "outputs": [
    {
     "data": {
      "text/plain": [
       "h5py._hl.files.File"
      ]
     },
     "execution_count": 33,
     "metadata": {},
     "output_type": "execute_result"
    }
   ],
   "source": [
    "np.transpose)"
   ]
  },
  {
   "cell_type": "code",
   "execution_count": 4,
   "id": "957142af",
   "metadata": {},
   "outputs": [
    {
     "data": {
      "text/plain": [
       "True"
      ]
     },
     "execution_count": 4,
     "metadata": {},
     "output_type": "execute_result"
    }
   ],
   "source": [
    "# Length here means \"batches\" so same number of batches in these two keys\n",
    "len(testmat['testdata'])==len(testmat['testxdata'])"
   ]
  },
  {
   "cell_type": "markdown",
   "id": "5369e269",
   "metadata": {},
   "source": [
    "##### key = 'testdata'"
   ]
  },
  {
   "cell_type": "code",
   "execution_count": 24,
   "id": "9dde3d7a",
   "metadata": {},
   "outputs": [
    {
     "name": "stdout",
     "output_type": "stream",
     "text": [
      "Batch 113687 total is 22\n"
     ]
    }
   ],
   "source": [
    "# testmat['testdata'] is a numpy array shaped [n, 919] where n is batches\n",
    "# Not sure why 919\n",
    "# The array holds binary values\n",
    "# Each batch adds up to a different number across a very wide range (0, 520)\n",
    "numCols=919\n",
    "randBatch = np.random.randint(0,len(testmat['testdata']))\n",
    "s = testmat['testdata'][randBatch].sum()\n",
    "print(\"Batch {} total is {}\".format(randBatch, s))"
   ]
  },
  {
   "cell_type": "code",
   "execution_count": 30,
   "id": "7f346530",
   "metadata": {},
   "outputs": [
    {
     "name": "stdout",
     "output_type": "stream",
     "text": [
      "Max batch is 520\n"
     ]
    }
   ],
   "source": [
    "print(\"Max batch is {}\".format(testmat['testdata'].sum(axis=1).max()))"
   ]
  },
  {
   "cell_type": "code",
   "execution_count": 84,
   "id": "a7bb1010",
   "metadata": {},
   "outputs": [],
   "source": [
    "colSums = np.sum(testmat['testdata'], axis=0)"
   ]
  },
  {
   "cell_type": "code",
   "execution_count": 90,
   "id": "cb3198ce",
   "metadata": {},
   "outputs": [
    {
     "data": {
      "text/plain": [
       "0"
      ]
     },
     "execution_count": 90,
     "metadata": {},
     "output_type": "execute_result"
    }
   ],
   "source": [
    "testmat['testdata'].min()"
   ]
  },
  {
   "cell_type": "markdown",
   "id": "dfc5eaf3",
   "metadata": {},
   "source": [
    "##### key = 'testxdata'"
   ]
  },
  {
   "cell_type": "code",
   "execution_count": 68,
   "id": "fa044499",
   "metadata": {},
   "outputs": [],
   "source": [
    "# testmat['testxdata'] is a numpy array shaped [n, 4, 1000] where n is batches\n",
    "# The array holds binary values which sum to 1 for each batch\n",
    "# Each column is \"on\" once, \"on\" means value=1\n",
    "batchTotal=0\n",
    "numCols=1000\n",
    "randBatch = np.random.randint(0,len(testmat['testxdata']))\n",
    "for n in range(4):\n",
    "    s = testmat['testxdata'][randBatch][n].sum()\n",
    "    batchTotal+=s\n",
    "if batchTotal != 1000:\n",
    "    print(randBatch, batchTotal)\n",
    "\n",
    "for n in range(numCols):\n",
    "    colTotal = testmat['testxdata'][randBatch][:,n].sum()\n",
    "    if colTotal != 1:\n",
    "        print(n)"
   ]
  },
  {
   "cell_type": "code",
   "execution_count": null,
   "id": "11b77e19",
   "metadata": {},
   "outputs": [],
   "source": [
    "X_train = np.transpose(np.array(trainmat['trainxdata']),axes=(2,0,1))\n",
    "y_train = np.array(trainmat['traindata']).T"
   ]
  }
 ],
 "metadata": {
  "kernelspec": {
   "display_name": "tensorflow",
   "language": "python",
   "name": "tensorflow"
  },
  "language_info": {
   "codemirror_mode": {
    "name": "ipython",
    "version": 3
   },
   "file_extension": ".py",
   "mimetype": "text/x-python",
   "name": "python",
   "nbconvert_exporter": "python",
   "pygments_lexer": "ipython3",
   "version": "3.8.10"
  }
 },
 "nbformat": 4,
 "nbformat_minor": 5
}
