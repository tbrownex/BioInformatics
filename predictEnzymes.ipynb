{
 "cells": [
  {
   "cell_type": "code",
   "execution_count": 1,
   "id": "3466a0d0",
   "metadata": {},
   "outputs": [],
   "source": [
    "import numpy as np\n",
    "import tensorflow as tf\n",
    "\n",
    "from getConfig import getConfig\n",
    "from splitData import splitData\n",
    "from buildModel import buildModel\n",
    "from loadData import loadData\n",
    "from prepData import prepData\n",
    "from hyperParms import getParms\n",
    "import utils"
   ]
  },
  {
   "cell_type": "code",
   "execution_count": 2,
   "id": "51b17de5",
   "metadata": {},
   "outputs": [],
   "source": [
    "def setLabels(enzymeLength, non_enzymeLength):\n",
    "    # Add the one-hot encoded label. 1 means \"enzyme\"; 0 means \"not an enzyme\"\n",
    "    labels = np.concatenate([np.ones([enzymeLength, 1]), np.zeros([non_enzymeLength, 1])], axis=0).flatten()\n",
    "    return tf.keras.utils.to_categorical(labels, num_classes=2)"
   ]
  },
  {
   "cell_type": "code",
   "execution_count": 3,
   "id": "bb2efc56",
   "metadata": {},
   "outputs": [],
   "source": [
    "def loadParms(x):\n",
    "    ''' Load a dictionary with the hyperparameter combinations for one run '''\n",
    "    d = {}\n",
    "    d['l1Size']      = x[0]\n",
    "    d['l2Size']      = x[1]\n",
    "    d['l1Activation']= x[2]\n",
    "    d['l2Activation']= x[3]\n",
    "    d['batchSize']   = x[4]\n",
    "    d['lr']          = x[5]\n",
    "    d['std']         = x[6]\n",
    "    d['dropout']     = x[7]\n",
    "    d['optimizer']   = x[8]\n",
    "    return d"
   ]
  },
  {
   "cell_type": "code",
   "execution_count": 4,
   "id": "e155065d",
   "metadata": {},
   "outputs": [],
   "source": [
    "def printResults(model, results):\n",
    "    print(\"{:<8}{:<8}{}\".format(\"parm#\", \"Loss\", \"Accuracy\"))\n",
    "    for x in range(len(results)):\n",
    "        print(\"{:<8}{:<10.3}{:<10.3}\".format(x, results[x][1], results[x][2]))"
   ]
  },
  {
   "cell_type": "code",
   "execution_count": 5,
   "id": "86430524",
   "metadata": {},
   "outputs": [],
   "source": [
    "config = getConfig()"
   ]
  },
  {
   "cell_type": "code",
   "execution_count": 6,
   "id": "1ce8958d",
   "metadata": {},
   "outputs": [],
   "source": [
    "modelNames = loadData(config, 'Pfam_model_names_list.pickle')\n",
    "enzyme_features = loadData(config, 'Pfam_name_list_new_data.pickle')\n",
    "non_enzyme_features = loadData(config, 'Pfam_name_list_non_enzyme.pickle')"
   ]
  },
  {
   "cell_type": "code",
   "execution_count": 7,
   "id": "1f1da470",
   "metadata": {},
   "outputs": [],
   "source": [
    "#utils.confirmNames(enzyme_features, modelNames)\n",
    "#utils.getRandom(modelNames)\n",
    "#utils.confirmNames(non_enzyme_features, modelNames)\n",
    "#utils.getRandom(enzyme_features)"
   ]
  },
  {
   "cell_type": "code",
   "execution_count": 8,
   "id": "0f772a25",
   "metadata": {},
   "outputs": [],
   "source": [
    "enzyme_features = prepData(enzyme_features, modelNames)\n",
    "non_enzyme_features = prepData(non_enzyme_features, modelNames)\n",
    "\n",
    "# This will be the input data with zeros and ones in various columns\n",
    "# Each column corresponds to an enzyme or protein\n",
    "features = np.concatenate([enzyme_features, non_enzyme_features], axis=0)\n",
    "\n",
    "labels = setLabels(len(enzyme_features), len(non_enzyme_features))\n",
    "assert (len(labels) == len(features)), \"length mismatch between features and labels\""
   ]
  },
  {
   "cell_type": "code",
   "execution_count": 9,
   "id": "f9584c45",
   "metadata": {},
   "outputs": [],
   "source": [
    "del modelNames\n",
    "del enzyme_features\n",
    "del non_enzyme_features"
   ]
  },
  {
   "cell_type": "code",
   "execution_count": 10,
   "id": "0876a012",
   "metadata": {},
   "outputs": [],
   "source": [
    "x_train, x_test, y_train, y_test = splitData(features, labels, config)"
   ]
  },
  {
   "cell_type": "code",
   "execution_count": 11,
   "id": "db36cae4",
   "metadata": {},
   "outputs": [],
   "source": [
    "parms = getParms()\n",
    "\n",
    "epochs = 2\n",
    "numFeatures = features.shape[1]"
   ]
  },
  {
   "cell_type": "code",
   "execution_count": null,
   "id": "664be232",
   "metadata": {},
   "outputs": [
    {
     "name": "stdout",
     "output_type": "stream",
     "text": [
      "\n",
      "8 parameter combinations\n",
      "\n",
      "Test loss Test accuracy\n"
     ]
    }
   ],
   "source": [
    "results = []\n",
    "count = 1\n",
    "    \n",
    "#start_time = time.time()\n",
    "print(\"\\n{} parameter combinations\".format(len(parms)))\n",
    "print(\"\\n{:<10}{}\".format(\"Test loss\",\"Test accuracy\"))\n",
    "    \n",
    "for x in parms:\n",
    "    parmDict = loadParms(x)\n",
    "    model = buildModel(numFeatures, parmDict)\n",
    "    model.compile(loss='categorical_crossentropy',\n",
    "              optimizer=tf.keras.optimizers.Adam(),\n",
    "              metrics=['accuracy'])\n",
    "    history = model.fit(x_train, y_train,\n",
    "                        batch_size=parmDict['batchSize'],\n",
    "                        epochs=epochs,\n",
    "                        verbose=0,\n",
    "                        validation_data=(x_test, y_test))\n",
    "    #print('model fit')\n",
    "    score = model.evaluate(x_test, y_test, verbose=0)\n",
    "    tup = (x, score[0], score[1])\n",
    "    results.append(tup)\n",
    "\n",
    "printResults(model, results)"
   ]
  },
  {
   "cell_type": "code",
   "execution_count": null,
   "id": "63d01fc7",
   "metadata": {},
   "outputs": [],
   "source": [
    "#parms[6]"
   ]
  },
  {
   "cell_type": "code",
   "execution_count": null,
   "id": "6f1a3b1a",
   "metadata": {},
   "outputs": [],
   "source": []
  }
 ],
 "metadata": {
  "kernelspec": {
   "display_name": "tensorflow",
   "language": "python",
   "name": "tensorflow"
  },
  "language_info": {
   "codemirror_mode": {
    "name": "ipython",
    "version": 3
   },
   "file_extension": ".py",
   "mimetype": "text/x-python",
   "name": "python",
   "nbconvert_exporter": "python",
   "pygments_lexer": "ipython3",
   "version": "3.8.10"
  }
 },
 "nbformat": 4,
 "nbformat_minor": 5
}
