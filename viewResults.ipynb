{
 "cells": [
  {
   "cell_type": "code",
   "execution_count": 1,
   "id": "2d250283",
   "metadata": {},
   "outputs": [],
   "source": [
    "import pandas as pd"
   ]
  },
  {
   "cell_type": "code",
   "execution_count": 4,
   "id": "86ec4ff6",
   "metadata": {},
   "outputs": [],
   "source": [
    "df = pd.read_csv(\"/home/tbrownex/NNscores.csv\")"
   ]
  },
  {
   "cell_type": "code",
   "execution_count": 5,
   "id": "93456de6",
   "metadata": {},
   "outputs": [
    {
     "data": {
      "text/html": [
       "<div>\n",
       "<style scoped>\n",
       "    .dataframe tbody tr th:only-of-type {\n",
       "        vertical-align: middle;\n",
       "    }\n",
       "\n",
       "    .dataframe tbody tr th {\n",
       "        vertical-align: top;\n",
       "    }\n",
       "\n",
       "    .dataframe thead th {\n",
       "        text-align: right;\n",
       "    }\n",
       "</style>\n",
       "<table border=\"1\" class=\"dataframe\">\n",
       "  <thead>\n",
       "    <tr style=\"text-align: right;\">\n",
       "      <th></th>\n",
       "      <th>L1</th>\n",
       "      <th>L2</th>\n",
       "      <th>L1activation</th>\n",
       "      <th>L2activation</th>\n",
       "      <th>batchSize</th>\n",
       "      <th>LR</th>\n",
       "      <th>StdDev</th>\n",
       "      <th>Dropout</th>\n",
       "      <th>optimizer</th>\n",
       "      <th>Loss</th>\n",
       "      <th>Accuracy</th>\n",
       "    </tr>\n",
       "  </thead>\n",
       "  <tbody>\n",
       "    <tr>\n",
       "      <th>0</th>\n",
       "      <td>8</td>\n",
       "      <td>8</td>\n",
       "      <td>tanh</td>\n",
       "      <td>relu</td>\n",
       "      <td>32</td>\n",
       "      <td>0.001</td>\n",
       "      <td>0.25</td>\n",
       "      <td>0.3</td>\n",
       "      <td>Adam</td>\n",
       "      <td>0.188</td>\n",
       "      <td>0.940</td>\n",
       "    </tr>\n",
       "    <tr>\n",
       "      <th>1</th>\n",
       "      <td>8</td>\n",
       "      <td>8</td>\n",
       "      <td>tanh</td>\n",
       "      <td>relu</td>\n",
       "      <td>32</td>\n",
       "      <td>0.001</td>\n",
       "      <td>0.25</td>\n",
       "      <td>0.3</td>\n",
       "      <td>Adam</td>\n",
       "      <td>0.188</td>\n",
       "      <td>0.940</td>\n",
       "    </tr>\n",
       "    <tr>\n",
       "      <th>2</th>\n",
       "      <td>8</td>\n",
       "      <td>8</td>\n",
       "      <td>tanh</td>\n",
       "      <td>relu</td>\n",
       "      <td>32</td>\n",
       "      <td>0.001</td>\n",
       "      <td>0.25</td>\n",
       "      <td>0.3</td>\n",
       "      <td>Adam</td>\n",
       "      <td>0.192</td>\n",
       "      <td>0.937</td>\n",
       "    </tr>\n",
       "  </tbody>\n",
       "</table>\n",
       "</div>"
      ],
      "text/plain": [
       "   L1  L2 L1activation L2activation  batchSize     LR  StdDev  Dropout  \\\n",
       "0   8   8         tanh         relu         32  0.001    0.25      0.3   \n",
       "1   8   8         tanh         relu         32  0.001    0.25      0.3   \n",
       "2   8   8         tanh         relu         32  0.001    0.25      0.3   \n",
       "\n",
       "  optimizer   Loss  Accuracy  \n",
       "0      Adam  0.188     0.940  \n",
       "1      Adam  0.188     0.940  \n",
       "2      Adam  0.192     0.937  "
      ]
     },
     "execution_count": 5,
     "metadata": {},
     "output_type": "execute_result"
    }
   ],
   "source": [
    "df"
   ]
  },
  {
   "cell_type": "code",
   "execution_count": null,
   "id": "45f7b5fe",
   "metadata": {},
   "outputs": [],
   "source": []
  }
 ],
 "metadata": {
  "kernelspec": {
   "display_name": "tensorflow",
   "language": "python",
   "name": "tensorflow"
  },
  "language_info": {
   "codemirror_mode": {
    "name": "ipython",
    "version": 3
   },
   "file_extension": ".py",
   "mimetype": "text/x-python",
   "name": "python",
   "nbconvert_exporter": "python",
   "pygments_lexer": "ipython3",
   "version": "3.8.10"
  }
 },
 "nbformat": 4,
 "nbformat_minor": 5
}
